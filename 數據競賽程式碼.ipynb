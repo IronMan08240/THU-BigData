{
 "cells": [
  {
   "cell_type": "markdown",
   "id": "eb645cc4-da16-421f-b8e4-0e6d714f2bd1",
   "metadata": {},
   "source": [
    "### 安裝套件"
   ]
  },
  {
   "cell_type": "code",
   "execution_count": 57,
   "id": "43aa1279-c787-430e-861d-f5225e706c5a",
   "metadata": {},
   "outputs": [],
   "source": [
    "import pandas as pd\n",
    "import numpy as np\n",
    "import matplotlib.pyplot as plt\n",
    "from statsmodels.tsa.stattools import adfuller\n",
    "from statsmodels.tsa.arima.model import ARIMA\n",
    "# from sklearn.metrics import mean_absolute_error, mean_squared_error\n",
    "# from statsmodels.graphics.tsaplots import plot_acf, plot_pacf"
   ]
  },
  {
   "cell_type": "markdown",
   "id": "d51e1fab-1f78-4493-a7da-b8b76ec1a4a2",
   "metadata": {},
   "source": [
    "### 載入資料"
   ]
  },
  {
   "cell_type": "code",
   "execution_count": 9,
   "id": "dbae7664-727a-4347-b276-6e3435a8e61f",
   "metadata": {},
   "outputs": [],
   "source": [
    "data = pd.read_csv(\"/Users/wangjigang/Desktop/數據競賽/2024-pre-train/6/c.csv\")\n",
    "data_test = pd.read_csv(\"/Users/wangjigang/Desktop/數據競賽/2024-testing.csv\")"
   ]
  },
  {
   "cell_type": "markdown",
   "id": "9f475bf1-dc00-43e0-b341-7b7380951046",
   "metadata": {},
   "source": [
    "### 模型預測函式"
   ]
  },
  {
   "cell_type": "code",
   "execution_count": 51,
   "id": "3ec9bb34-1fe6-49fa-a6af-f71ecaf38096",
   "metadata": {},
   "outputs": [],
   "source": [
    "def predict(col):\n",
    "    ### 所需資料 ###\n",
    "    dt = pd.concat([data[\"y01\"], data[\"y02\"], data[\"y03\"], data[\"y04\"], data[\"y05\"], \n",
    "                    data[\"y06\"], data[\"y07\"], data[\"y08\"], data[\"y09\"], data[\"y10\"],\n",
    "                    data_test[col][:50]]).reset_index(drop=True)\n",
    "    test_c = data_test[col][:50]\n",
    "\n",
    "    ### 模型參數 ###\n",
    "    parameter = [(2, 0, 0, 500), (2, 0, 0, 1000), (2, 0, 4, 500), (2, 0, 4, 500), (2, 0, 4, 950)]\n",
    "\n",
    "    ### 第一次 ###\n",
    "    model = ARIMA(dt, order=(1, 0, 0)) \n",
    "    forecast = model.fit().forecast(steps=3950)\n",
    "    test_c = pd.concat([test_c, forecast[:500]]).reset_index(drop=True)\n",
    "    dt = pd.concat([data[\"y01\"][len(test_c):], data[\"y02\"][len(test_c):], data[\"y03\"][len(test_c):], data[\"y04\"][len(test_c):], data[\"y05\"][len(test_c):], \n",
    "                    data[\"y06\"][len(test_c):], data[\"y07\"][len(test_c):], data[\"y08\"][len(test_c):], data[\"y09\"][len(test_c):], data[\"y10\"][len(test_c):],\n",
    "                    test_c[len(test_c)-50:]]).reset_index(drop=True)\n",
    "    ### 後五次 ###\n",
    "    for pdq in parameter:\n",
    "        p = pdq[0]\n",
    "        d = pdq[1]\n",
    "        q = pdq[2]\n",
    "        time = pdq[3]\n",
    "        model = ARIMA(dt, order=(p, d, q)) \n",
    "        forecast = model.fit().forecast(steps=len(test_c))\n",
    "        test_c = pd.concat([test_c, forecast[:time]]).reset_index(drop=True)\n",
    "        dt = pd.concat([data[\"y01\"][len(test_c):], data[\"y02\"][len(test_c):], data[\"y03\"][len(test_c):], data[\"y04\"][len(test_c):], data[\"y05\"][len(test_c):], \n",
    "                       data[\"y06\"][len(test_c):], data[\"y07\"][len(test_c):], data[\"y08\"][len(test_c):], data[\"y09\"][len(test_c):], data[\"y10\"][len(test_c):],\n",
    "                       test_c[len(test_c)-50:]]).reset_index(drop=True)\n",
    "    # plt.plot(test_c)\n",
    "    # test_c.to_excel(f\"/Users/wangjigang/Desktop/數據競賽/預測結果/predict_{col}.xlsx\", index = False)\n",
    "    return test_c"
   ]
  },
  {
   "cell_type": "markdown",
   "id": "ec903080-8586-4de9-9766-f187a35abe6f",
   "metadata": {},
   "source": [
    "### 進行預測"
   ]
  },
  {
   "cell_type": "code",
   "execution_count": 52,
   "id": "67e7f0f5-fd9f-4b92-aeef-283ed22aeda7",
   "metadata": {},
   "outputs": [],
   "source": [
    "p_y01 = predict(\"y01\")\n",
    "p_y02 = predict(\"y02\")\n",
    "p_y03 = predict(\"y03\")\n",
    "p_y04 = predict(\"y04\")\n",
    "p_y05 = predict(\"y05\")\n",
    "p_y06 = predict(\"y06\")\n",
    "p_y07 = predict(\"y07\")\n",
    "p_y08 = predict(\"y08\")\n",
    "p_y09 = predict(\"y09\")\n",
    "p_y10 = predict(\"y10\")"
   ]
  },
  {
   "cell_type": "markdown",
   "id": "aa8afcc7-39cb-4c69-8c59-a9f8ad84b925",
   "metadata": {},
   "source": [
    "### 合併預測結果"
   ]
  },
  {
   "cell_type": "code",
   "execution_count": 53,
   "id": "46a80f47-4a97-4cba-9179-9112a9d06952",
   "metadata": {},
   "outputs": [],
   "source": [
    "results = pd.concat([p_y01, p_y02, p_y03, p_y04, p_y05, \n",
    "                     p_y06, p_y07, p_y08, p_y09, p_y10,\n",
    "                     ], axis = 1).reset_index(drop=True)"
   ]
  },
  {
   "cell_type": "markdown",
   "id": "4a05fc0a-5615-4952-adde-9cc8213ace1c",
   "metadata": {},
   "source": [
    "### 輸出資料"
   ]
  },
  {
   "cell_type": "code",
   "execution_count": 61,
   "id": "4ebb01b3-1072-4442-b189-75f162fdb67e",
   "metadata": {},
   "outputs": [],
   "source": [
    "results.to_excel(\"./predict_results.xlsx\", index = False)"
   ]
  }
 ],
 "metadata": {
  "kernelspec": {
   "display_name": "Python 3 (ipykernel)",
   "language": "python",
   "name": "python3"
  },
  "language_info": {
   "codemirror_mode": {
    "name": "ipython",
    "version": 3
   },
   "file_extension": ".py",
   "mimetype": "text/x-python",
   "name": "python",
   "nbconvert_exporter": "python",
   "pygments_lexer": "ipython3",
   "version": "3.12.3"
  }
 },
 "nbformat": 4,
 "nbformat_minor": 5
}
